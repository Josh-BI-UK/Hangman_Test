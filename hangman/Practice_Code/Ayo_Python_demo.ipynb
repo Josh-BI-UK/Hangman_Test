{
 "cells": [
  {
   "cell_type": "code",
   "execution_count": 2,
   "metadata": {},
   "outputs": [],
   "source": [
    "message = 'hello world'\n",
    "print(message)\n",
    "print('Enter name below')\n",
    "your_name = input()\n",
    "# print(your_name)"
   ]
  },
  {
   "cell_type": "code",
   "execution_count": 6,
   "metadata": {},
   "outputs": [
    {
     "name": "stdout",
     "output_type": "stream",
     "text": [
      "Option 2.do that\n"
     ]
    }
   ],
   "source": [
    "var = True\n",
    "if var != True:\n",
    "\tprint('Option 1. do this')\n",
    "else:\n",
    "\tprint('Option 2.do that')"
   ]
  },
  {
   "cell_type": "code",
   "execution_count": 14,
   "metadata": {},
   "outputs": [
    {
     "name": "stdout",
     "output_type": "stream",
     "text": [
      "2 x  6.5  =  13.0\n"
     ]
    }
   ],
   "source": [
    "raw_input = '6.5'\n",
    "str_input = str(raw_input)\n",
    "#print('str_input =', str_input)\n",
    "if str_input.isalpha():\n",
    "\tprint('Please only enter numbers')\n",
    "else:\n",
    "    Sum_example = 2 * float(raw_input)\n",
    "    print('2 x ',raw_input,' = ',Sum_example)"
   ]
  }
 ],
 "metadata": {
  "kernelspec": {
   "display_name": "Python 3.10.5 64-bit",
   "language": "python",
   "name": "python3"
  },
  "language_info": {
   "codemirror_mode": {
    "name": "ipython",
    "version": 3
   },
   "file_extension": ".py",
   "mimetype": "text/x-python",
   "name": "python",
   "nbconvert_exporter": "python",
   "pygments_lexer": "ipython3",
   "version": "3.10.5"
  },
  "orig_nbformat": 4,
  "vscode": {
   "interpreter": {
    "hash": "369f2c481f4da34e4445cda3fffd2e751bd1c4d706f27375911949ba6bb62e1c"
   }
  }
 },
 "nbformat": 4,
 "nbformat_minor": 2
}
