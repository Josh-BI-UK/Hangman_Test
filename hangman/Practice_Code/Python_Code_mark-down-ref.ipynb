{
 "cells": [
  {
   "cell_type": "markdown",
   "metadata": {},
   "source": [
    "# Python Markdown Reference\n",
    "\n",
    "## <u>1. Headings styles</u>\n",
    "Use the number sign (#) followed by a blank space for notebook titles and section headings. \n",
    "- \\# for titles\n",
    "- \\## major headings\n",
    "- \\### subheadings\n",
    "- \\#### 4th level subheadings\n",
    "\n",
    "See examples below: \n",
    "- # titles\n",
    "- ## major headings\n",
    "- ### subheadings\n",
    "- #### 4th level subheadings\n",
    "\n",
    "*Source: https://www.ibm.com/docs/en/watson-studio-local/1.2.3?topic=notebooks-markdown-jupyter-cheatsheet*\n",
    "\n",
    "## <u>2. Emphasis</u>\n",
    "\n",
    "Use the following code to emphasize text:\n",
    "- **Bold** text use double underscore:  \\_\\_string\\_\\_ or double star  \\*\\*string\\**\n",
    "- *Italic* text use single underscore:  \\_string_ or single star  \\*string*\n",
    "\n",
    "Use \\$ sign to style mathematical symbols.\n",
    "- e.g: $ 1+1=9 $\n",
    "\n",
    "3. List item as a bullet: dash and space -\n",
    "4. List item as a number: Simple as number and dot 1.\n",
    "5. Indenting text: Greater than and space >\n",
    "6. Inline code span: Back quotation mark \" ` \"\n",
    "7. Block of code: Triple back quotation marks \" ``` \"\n",
    "8. Link a section: [Title of Section](#title-of-section)\n",
    "9. Hyperlink: [Text](URL)"
   ]
  },
  {
   "cell_type": "code",
   "execution_count": null,
   "metadata": {},
   "outputs": [],
   "source": []
  }
 ],
 "metadata": {
  "language_info": {
   "name": "python"
  },
  "orig_nbformat": 4
 },
 "nbformat": 4,
 "nbformat_minor": 2
}
