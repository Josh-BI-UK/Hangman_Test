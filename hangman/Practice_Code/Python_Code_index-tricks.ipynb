{
 "cells": [
  {
   "cell_type": "markdown",
   "metadata": {},
   "source": [
    "## Index Method\n",
    "\n",
    "“Indexing” means referring to an element of an iterable by its position within the iterable.\n",
    "\n",
    "Based on the List method, list items are indexed. Python list indexing starts at [0]. So, the first item in a list has an index [0], the second item has an index [1], the third an index [2] etc.\n",
    "\n",
    "To view the index of a List you can use the index() method, which returns the index number of the specified element in a list. The index() method returns the position at the first occurrence of the specified value."
   ]
  },
  {
   "cell_type": "code",
   "execution_count": null,
   "metadata": {},
   "outputs": [],
   "source": [
    "# example of a list of animals.\n",
    "animals = ['cat', 'dog', 'rabbit', 'horse']\n",
    "\n",
    "# to get the index of 'dog' use:\n",
    "animals.index('dog')\n",
    "\n",
    "# To see the output we will assign animals.index('dog') to a varible called \"x\".\n",
    "x = animals.index('dog')\n",
    "print(x)\n",
    "\n",
    "# The Output should be the number 1, as dog is the 2nd animal in our list, when you start counting from 0."
   ]
  },
  {
   "cell_type": "markdown",
   "metadata": {},
   "source": [
    "Negtive indexing method"
   ]
  },
  {
   "cell_type": "code",
   "execution_count": null,
   "metadata": {},
   "outputs": [],
   "source": [
    "word = 'apple'\n",
    "print(word[-1]) # Negtive indexing"
   ]
  },
  {
   "cell_type": "markdown",
   "metadata": {},
   "source": [
    "Using a loop to iteratively print each index number in a list."
   ]
  },
  {
   "cell_type": "code",
   "execution_count": null,
   "metadata": {},
   "outputs": [],
   "source": [
    "word = 'apple'\n",
    "letter = 'e'\n",
    "\n",
    "# Prints each index number in 'word' apple iteratively.\n",
    "for i in range(0,len(word)):\n",
    "    word[i]\n",
    "    print(i)"
   ]
  },
  {
   "cell_type": "code",
   "execution_count": 14,
   "metadata": {},
   "outputs": [
    {
     "name": "stdout",
     "output_type": "stream",
     "text": [
      "0\n",
      "1\n",
      "2\n",
      "3\n",
      "4\n"
     ]
    }
   ],
   "source": [
    "# Prints each index number in mystery 'word' iteratively.\n",
    "for i in range(0,len(word)):\n",
    "    if word[i] == letter:\n",
    "        print(i)   "
   ]
  },
  {
   "cell_type": "code",
   "execution_count": null,
   "metadata": {},
   "outputs": [],
   "source": [
    "# Prints the UNIQUE number of letters in the mystery.\n",
    "word = 'apple'\n",
    "# Prints the UNIQUE number of letters in the mystery.\n",
    "print(len(list(set(word))))"
   ]
  },
  {
   "cell_type": "code",
   "execution_count": 10,
   "metadata": {},
   "outputs": [
    {
     "name": "stdout",
     "output_type": "stream",
     "text": [
      "5\n",
      "['_', '_', '_', '_', '_']\n"
     ]
    }
   ],
   "source": [
    "num_char_in_word = int(len(word)) #extra\n",
    "print(num_char_in_word)\n",
    "word_guessed = list(('_')*int(len(word))) #2\n",
    "print(word_guessed)"
   ]
  }
 ],
 "metadata": {
  "kernelspec": {
   "display_name": "Python 3.10.5 64-bit",
   "language": "python",
   "name": "python3"
  },
  "language_info": {
   "codemirror_mode": {
    "name": "ipython",
    "version": 3
   },
   "file_extension": ".py",
   "mimetype": "text/x-python",
   "name": "python",
   "nbconvert_exporter": "python",
   "pygments_lexer": "ipython3",
   "version": "3.10.5"
  },
  "orig_nbformat": 4,
  "vscode": {
   "interpreter": {
    "hash": "369f2c481f4da34e4445cda3fffd2e751bd1c4d706f27375911949ba6bb62e1c"
   }
  }
 },
 "nbformat": 4,
 "nbformat_minor": 2
}
